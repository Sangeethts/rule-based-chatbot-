{
  "nbformat": 4,
  "nbformat_minor": 0,
  "metadata": {
    "colab": {
      "provenance": [],
      "authorship_tag": "ABX9TyNJBSAvG+/0uUkbCAAYzDBr",
      "include_colab_link": true
    },
    "kernelspec": {
      "name": "python3",
      "display_name": "Python 3"
    },
    "language_info": {
      "name": "python"
    }
  },
  "cells": [
    {
      "cell_type": "markdown",
      "metadata": {
        "id": "view-in-github",
        "colab_type": "text"
      },
      "source": [
        "<a href=\"https://colab.research.google.com/github/Sangeethts/rule-based-chatbot-/blob/main/rulebasedbot.ipynb\" target=\"_parent\"><img src=\"https://colab.research.google.com/assets/colab-badge.svg\" alt=\"Open In Colab\"/></a>"
      ]
    },
    {
      "cell_type": "code",
      "execution_count": 1,
      "metadata": {
        "id": "dBvDdkv7GXB9"
      },
      "outputs": [],
      "source": []
    },
    {
      "cell_type": "code",
      "source": [
        "import re\n",
        "import random\n",
        "\n",
        "class AlienBot:\n",
        "    negative_responses = (\"no\", \"nope\", \"nah\", \"naw\", \"not a chance\", \"sorry\")\n",
        "    exit_commands = (\"quit\", \"pause\", \"exit\", \"goodbye\", \"bye\", \"later\")\n",
        "    random_questions = (\n",
        "        \"What brings you to this planet? \",\n",
        "        \"Are there beings similar to you on Earth? \",\n",
        "        \"What kind of sustenance do you require? \",\n",
        "        \"Is there intelligent life on Earth? \",\n",
        "        \"Who governs the Earthlings? \",\n",
        "        \"Have you explored other planets in this galaxy? \",\n",
        "        \"Tell me about the advanced technology you possess. \"\n",
        "    )\n",
        "\n",
        "    def __init__(self):\n",
        "        self.alienbabble = {\n",
        "            'describe_planet_intent': r'.*\\s*your planet.*',\n",
        "            'answer_why_intent': r'.*\\s*why.*',\n",
        "            'cubed_intent': r'.*cube.*(\\d+)'\n",
        "        }\n",
        "\n",
        "    def greet(self):\n",
        "        self.name = input(\"What is your name? \")\n",
        "        will_help = input(f\"Hi {self.name}, I'm Jarvis. I'm not from this planet. Will you help me learn about your planet? \")\n",
        "        if will_help.lower() in self.negative_responses:\n",
        "            print(\"Ok, have a nice Earth day!\")\n",
        "        else:\n",
        "            self.chat()\n",
        "\n",
        "    def make_exit(self, reply):\n",
        "        return any(exit_command in reply.lower() for exit_command in self.exit_commands)\n",
        "\n",
        "    def chat(self):\n",
        "        while True:\n",
        "            reply = input(random.choice(self.random_questions)).lower()\n",
        "            if self.make_exit(reply):\n",
        "                print(\"Ok, have a nice Earth day!\")\n",
        "                break\n",
        "            else:\n",
        "                response = self.match_reply(reply)\n",
        "                print(response)\n",
        "\n",
        "    def match_reply(self, reply):\n",
        "        matched_intent = None\n",
        "        for intent, pattern in self.alienbabble.items():\n",
        "            if re.search(pattern, reply):\n",
        "                matched_intent = intent\n",
        "                break\n",
        "\n",
        "        if matched_intent == 'answer_why_intent':\n",
        "            return self.answer_why_intent()\n",
        "        elif matched_intent == 'describe_planet_intent':\n",
        "            return self.describe_planet_intent()\n",
        "        elif matched_intent == 'cubed_intent':\n",
        "            match = re.search(self.alienbabble['cubed_intent'], reply)\n",
        "            number = int(match.group(1))\n",
        "            return self.cubed_intent(number)\n",
        "        else:\n",
        "            return self.no_match_intent()\n",
        "\n",
        "    def describe_planet_intent(self):\n",
        "        responses = (\"My planet is an utopia of diverse organisms and species. \",\n",
        "                     \"I am from Odipidus, the capital of the Wayward Galaxies. \")\n",
        "        return random.choice(responses)\n",
        "\n",
        "    def answer_why_intent(self):\n",
        "        responses = (\"I come in peace. \",\n",
        "                     \"I am here to collect data on your planet and its inhabitants. \",\n",
        "                     \"I heard the coffee is good. \")\n",
        "        return random.choice(responses)\n",
        "\n",
        "    def cubed_intent(self, number):\n",
        "        cubed_number = number ** 3\n",
        "        return f\"The cube of {number} is {cubed_number}. Isn't that cool?\"\n",
        "\n",
        "    def no_match_intent(self):\n",
        "        responses = (\"Please tell me more. \",\n",
        "                     \"Tell me more! \",\n",
        "                     \"Why do you say that? \",\n",
        "                     \"I see. Can you elaborate? \",\n",
        "                     \"Interesting. Can you tell me more? \",\n",
        "                     \"Why?\")\n",
        "        return random.choice(responses)\n",
        "\n",
        "Jarvis = AlienBot()\n",
        "Jarvis.greet()\n"
      ],
      "metadata": {
        "id": "tc1uNydFG78u",
        "colab": {
          "base_uri": "https://localhost:8080/",
          "height": 737
        },
        "outputId": "f0451a37-c704-4c07-e91d-a9e85c64b3db"
      },
      "execution_count": 14,
      "outputs": [
        {
          "output_type": "stream",
          "name": "stdout",
          "text": [
            "What is your name? sangeeth\n",
            "Hi sangeeth, I'm Jarvis. I'm not from this planet. Will you help me learn about your planet? yes\n",
            "Is there intelligent life on Earth? yes\n",
            "Interesting. Can you tell me more? \n",
            "Have you explored other planets in this galaxy? no\n",
            "Interesting. Can you tell me more? \n",
            "What brings you to this planet? nothing\n",
            "Tell me more! \n",
            "Tell me about the advanced technology you possess. not so much \n",
            "I see. Can you elaborate? \n",
            "What kind of sustenance do you require? rice\n",
            "Please tell me more. \n",
            "Who governs the Earthlings? poeple\n",
            "Please tell me more. \n",
            "Tell me about the advanced technology you possess. nothing\n",
            "Why?\n",
            "Is there intelligent life on Earth? yes\n",
            "Please tell me more. \n",
            "Are there beings similar to you on Earth? stop\n",
            "Please tell me more. \n",
            "Are there beings similar to you on Earth? end\n",
            "Why?\n"
          ]
        },
        {
          "output_type": "error",
          "ename": "KeyboardInterrupt",
          "evalue": "ignored",
          "traceback": [
            "\u001b[0;31m---------------------------------------------------------------------------\u001b[0m",
            "\u001b[0;31mKeyboardInterrupt\u001b[0m                         Traceback (most recent call last)",
            "\u001b[0;32m<ipython-input-14-280a9c00341b>\u001b[0m in \u001b[0;36m<cell line: 88>\u001b[0;34m()\u001b[0m\n\u001b[1;32m     86\u001b[0m \u001b[0;34m\u001b[0m\u001b[0m\n\u001b[1;32m     87\u001b[0m \u001b[0mJarvis\u001b[0m \u001b[0;34m=\u001b[0m \u001b[0mAlienBot\u001b[0m\u001b[0;34m(\u001b[0m\u001b[0;34m)\u001b[0m\u001b[0;34m\u001b[0m\u001b[0;34m\u001b[0m\u001b[0m\n\u001b[0;32m---> 88\u001b[0;31m \u001b[0mJarvis\u001b[0m\u001b[0;34m.\u001b[0m\u001b[0mgreet\u001b[0m\u001b[0;34m(\u001b[0m\u001b[0;34m)\u001b[0m\u001b[0;34m\u001b[0m\u001b[0;34m\u001b[0m\u001b[0m\n\u001b[0m",
            "\u001b[0;32m<ipython-input-14-280a9c00341b>\u001b[0m in \u001b[0;36mgreet\u001b[0;34m(self)\u001b[0m\n\u001b[1;32m     28\u001b[0m             \u001b[0mprint\u001b[0m\u001b[0;34m(\u001b[0m\u001b[0;34m\"Ok, have a nice Earth day!\"\u001b[0m\u001b[0;34m)\u001b[0m\u001b[0;34m\u001b[0m\u001b[0;34m\u001b[0m\u001b[0m\n\u001b[1;32m     29\u001b[0m         \u001b[0;32melse\u001b[0m\u001b[0;34m:\u001b[0m\u001b[0;34m\u001b[0m\u001b[0;34m\u001b[0m\u001b[0m\n\u001b[0;32m---> 30\u001b[0;31m             \u001b[0mself\u001b[0m\u001b[0;34m.\u001b[0m\u001b[0mchat\u001b[0m\u001b[0;34m(\u001b[0m\u001b[0;34m)\u001b[0m\u001b[0;34m\u001b[0m\u001b[0;34m\u001b[0m\u001b[0m\n\u001b[0m\u001b[1;32m     31\u001b[0m \u001b[0;34m\u001b[0m\u001b[0m\n\u001b[1;32m     32\u001b[0m     \u001b[0;32mdef\u001b[0m \u001b[0mmake_exit\u001b[0m\u001b[0;34m(\u001b[0m\u001b[0mself\u001b[0m\u001b[0;34m,\u001b[0m \u001b[0mreply\u001b[0m\u001b[0;34m)\u001b[0m\u001b[0;34m:\u001b[0m\u001b[0;34m\u001b[0m\u001b[0;34m\u001b[0m\u001b[0m\n",
            "\u001b[0;32m<ipython-input-14-280a9c00341b>\u001b[0m in \u001b[0;36mchat\u001b[0;34m(self)\u001b[0m\n\u001b[1;32m     35\u001b[0m     \u001b[0;32mdef\u001b[0m \u001b[0mchat\u001b[0m\u001b[0;34m(\u001b[0m\u001b[0mself\u001b[0m\u001b[0;34m)\u001b[0m\u001b[0;34m:\u001b[0m\u001b[0;34m\u001b[0m\u001b[0;34m\u001b[0m\u001b[0m\n\u001b[1;32m     36\u001b[0m         \u001b[0;32mwhile\u001b[0m \u001b[0;32mTrue\u001b[0m\u001b[0;34m:\u001b[0m\u001b[0;34m\u001b[0m\u001b[0;34m\u001b[0m\u001b[0m\n\u001b[0;32m---> 37\u001b[0;31m             \u001b[0mreply\u001b[0m \u001b[0;34m=\u001b[0m \u001b[0minput\u001b[0m\u001b[0;34m(\u001b[0m\u001b[0mrandom\u001b[0m\u001b[0;34m.\u001b[0m\u001b[0mchoice\u001b[0m\u001b[0;34m(\u001b[0m\u001b[0mself\u001b[0m\u001b[0;34m.\u001b[0m\u001b[0mrandom_questions\u001b[0m\u001b[0;34m)\u001b[0m\u001b[0;34m)\u001b[0m\u001b[0;34m.\u001b[0m\u001b[0mlower\u001b[0m\u001b[0;34m(\u001b[0m\u001b[0;34m)\u001b[0m\u001b[0;34m\u001b[0m\u001b[0;34m\u001b[0m\u001b[0m\n\u001b[0m\u001b[1;32m     38\u001b[0m             \u001b[0;32mif\u001b[0m \u001b[0mself\u001b[0m\u001b[0;34m.\u001b[0m\u001b[0mmake_exit\u001b[0m\u001b[0;34m(\u001b[0m\u001b[0mreply\u001b[0m\u001b[0;34m)\u001b[0m\u001b[0;34m:\u001b[0m\u001b[0;34m\u001b[0m\u001b[0;34m\u001b[0m\u001b[0m\n\u001b[1;32m     39\u001b[0m                 \u001b[0mprint\u001b[0m\u001b[0;34m(\u001b[0m\u001b[0;34m\"Ok, have a nice Earth day!\"\u001b[0m\u001b[0;34m)\u001b[0m\u001b[0;34m\u001b[0m\u001b[0;34m\u001b[0m\u001b[0m\n",
            "\u001b[0;32m/usr/local/lib/python3.10/dist-packages/ipykernel/kernelbase.py\u001b[0m in \u001b[0;36mraw_input\u001b[0;34m(self, prompt)\u001b[0m\n\u001b[1;32m    849\u001b[0m                 \u001b[0;34m\"raw_input was called, but this frontend does not support input requests.\"\u001b[0m\u001b[0;34m\u001b[0m\u001b[0;34m\u001b[0m\u001b[0m\n\u001b[1;32m    850\u001b[0m             )\n\u001b[0;32m--> 851\u001b[0;31m         return self._input_request(str(prompt),\n\u001b[0m\u001b[1;32m    852\u001b[0m             \u001b[0mself\u001b[0m\u001b[0;34m.\u001b[0m\u001b[0m_parent_ident\u001b[0m\u001b[0;34m,\u001b[0m\u001b[0;34m\u001b[0m\u001b[0;34m\u001b[0m\u001b[0m\n\u001b[1;32m    853\u001b[0m             \u001b[0mself\u001b[0m\u001b[0;34m.\u001b[0m\u001b[0m_parent_header\u001b[0m\u001b[0;34m,\u001b[0m\u001b[0;34m\u001b[0m\u001b[0;34m\u001b[0m\u001b[0m\n",
            "\u001b[0;32m/usr/local/lib/python3.10/dist-packages/ipykernel/kernelbase.py\u001b[0m in \u001b[0;36m_input_request\u001b[0;34m(self, prompt, ident, parent, password)\u001b[0m\n\u001b[1;32m    893\u001b[0m             \u001b[0;32mexcept\u001b[0m \u001b[0mKeyboardInterrupt\u001b[0m\u001b[0;34m:\u001b[0m\u001b[0;34m\u001b[0m\u001b[0;34m\u001b[0m\u001b[0m\n\u001b[1;32m    894\u001b[0m                 \u001b[0;31m# re-raise KeyboardInterrupt, to truncate traceback\u001b[0m\u001b[0;34m\u001b[0m\u001b[0;34m\u001b[0m\u001b[0m\n\u001b[0;32m--> 895\u001b[0;31m                 \u001b[0;32mraise\u001b[0m \u001b[0mKeyboardInterrupt\u001b[0m\u001b[0;34m(\u001b[0m\u001b[0;34m\"Interrupted by user\"\u001b[0m\u001b[0;34m)\u001b[0m \u001b[0;32mfrom\u001b[0m \u001b[0;32mNone\u001b[0m\u001b[0;34m\u001b[0m\u001b[0;34m\u001b[0m\u001b[0m\n\u001b[0m\u001b[1;32m    896\u001b[0m             \u001b[0;32mexcept\u001b[0m \u001b[0mException\u001b[0m \u001b[0;32mas\u001b[0m \u001b[0me\u001b[0m\u001b[0;34m:\u001b[0m\u001b[0;34m\u001b[0m\u001b[0;34m\u001b[0m\u001b[0m\n\u001b[1;32m    897\u001b[0m                 \u001b[0mself\u001b[0m\u001b[0;34m.\u001b[0m\u001b[0mlog\u001b[0m\u001b[0;34m.\u001b[0m\u001b[0mwarning\u001b[0m\u001b[0;34m(\u001b[0m\u001b[0;34m\"Invalid Message:\"\u001b[0m\u001b[0;34m,\u001b[0m \u001b[0mexc_info\u001b[0m\u001b[0;34m=\u001b[0m\u001b[0;32mTrue\u001b[0m\u001b[0;34m)\u001b[0m\u001b[0;34m\u001b[0m\u001b[0;34m\u001b[0m\u001b[0m\n",
            "\u001b[0;31mKeyboardInterrupt\u001b[0m: Interrupted by user"
          ]
        }
      ]
    }
  ]
}